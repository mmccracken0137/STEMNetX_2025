





























2 + 2 + 2


3 * 2


3 * 4 * 1 * 4 * 5 * 6 / 2 / 6 / 8 / 3 * 10 * 100


2^10





2**10





29**0.5


29**(0.5), 29**0.4, 29**0.3, 29**0.2, 29**0.1





#29^0.5





#(29


#4.1.6


#23 + 23598753 + a





12 % 5


20 % 5


345702835203 % 5





a = -2.0*10**-9





print(a)





# Ideal gas law calculation

pressure = 101300
volume = 1.12
n = 26.08
R = 8.31

temp = pressure * volume / n / R
print("The temperature of our gas is", temp, '.')





pressure = 180000

temp = pressure * volume / n / R
print(temp)





tempF = temp * 9 / 5 + 32
print("The temperature in Fahrenheit is")
print(tempF)





def ideal_gas_temp(press, vol):
    n_moles = 26.08
    numerator = press * vol
    denominator = n_moles * 8.31
    return numerator / denominator





ideal_gas_temp(101300, 1.12)


ideal_gas_temp(200000, 1.12)


ideal_gas_temp(80000, 0.08)





print("Let's count to 9!")
for i in [0, 1, 2, 3, 4, 5, 6, 7, 8, 9]:
    print(i**0.5)

print("We're done.")





sum = 0
for i in range(2024):
    sum = sum + i  

print(sum)





summation = 0
for i in range(100000000):
    summation = summation + 1/(i+1)**2
    
print(summation)





for i in range(20):
    print(2**i)

































