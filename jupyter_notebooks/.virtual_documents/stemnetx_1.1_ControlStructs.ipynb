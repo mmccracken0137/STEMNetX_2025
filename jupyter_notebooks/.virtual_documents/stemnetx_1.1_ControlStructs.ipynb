











for i in range(10):
    print(i)
    
print("Now we are done!")











loopmax = 1000
loopcount = 0
while loopcount <= loopmax:
    print("Mikey likes bikes")
    loopcount = loopcount + 1





2 < 1, 2 > 1, 2 == 1, 2 != 1, not 2 > 1





deposit = 1000
interest = 0.021
year = 0
while deposit < 1000000:
    deposit = deposit * (1.0 + interest)
    year = year + 1

print(year)





(1.021**333)*1000











for i in range(10):
    if i % 2 == 0:
        print(i, "is even")





for i in range(10):
    if i % 2 == 0:
        print(i, "is even")
    elif i % 3 == 0:
        print(i, "is not even but is divisible by 3")
    else:
        print(i, "is neither even nor divisible by 3")         





ndivby7 = 0
ndivby11 = 0
for i in range(1,100):
    if i**3 % 7 == 0:
        print(i, i**3)
        ndivby7 = ndivby7 + 1
    elif i**3 % 11 == 0:
        print(i, i**3)
        ndivby11 = ndivby11 + 1

print()
print("We found", ndivby7, "cubes divisible by 7")
print("We found", ndivby11, "cubes divisible by 11")





def f(x):
    return -x**3 + 4*x**2 - x





import numpy as np
import matplotlib.pyplot as plt

def f(x):
    return -x**3 + 4*x**2

xs = np.linspace(0,4,101)
ys = f(xs)

rxs = np.linspace(0,4,21)
rys = f(rxs)

plt.plot(xs, ys, label='f(x)')
plt.xlabel('x')
plt.ylabel('y')
plt.hist(rxs + 0.1, weights=rys, range=(0, 4), bins=20, label='Riemann approx')
plt.legend(loc='upper left')
plt.show()





x_init = 0.0
x_fin = 4.0
n_rectangles = 20
delta_x = (x_fin - x_init) / n_rectangles

total_area = 0

x = x_init
while x <= x_fin:
    total_area = total_area + f(x) * delta_x
    x = x + delta_x
    
print(total_area)





import numpy
print(numpy.pi)
print(numpy.e)

def our_gaussian(x):
    mu = 0.0
    sigma = 0.5
    coeff = 1 / numpy.sqrt(2 * numpy.pi * sigma**2)
    exponent = - (x - mu)**2 / 2 / sigma**2
    return coeff * numpy.exp(exponent)

xs = np.linspace(-2,2,101)
ys = our_gaussian(xs)

plt.plot(xs, ys, label='g(x)')
plt.xlabel('x')
plt.ylabel('y')
plt.legend(loc='upper left')
plt.show()





x1 = -0.5
x2 = 0.5
dx = 0.001
integral = 0

x = x1

while x <= x2:
    integral = integral + our_gaussian(x) * dx
    x = x + dx
    
print(integral)

















p(456547)


















